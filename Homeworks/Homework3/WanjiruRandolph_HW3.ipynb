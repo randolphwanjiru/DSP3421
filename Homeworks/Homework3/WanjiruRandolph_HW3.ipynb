{
 "cells": [
  {
   "cell_type": "code",
   "execution_count": 1,
   "id": "37406ee9",
   "metadata": {},
   "outputs": [],
   "source": [
    "import cv2\n",
    "import numpy as np"
   ]
  },
  {
   "cell_type": "code",
   "execution_count": 2,
   "id": "e1144091",
   "metadata": {},
   "outputs": [
    {
     "name": "stdout",
     "output_type": "stream",
     "text": [
      "Dimensions of Panda: (1528, 1522, 3)\n",
      "Color Channels: 3\n"
     ]
    }
   ],
   "source": [
    "#1 Loading the Panda.png image using numpy, then displayed dimensions\n",
    "#and color channels\n",
    "\n",
    "image= cv2.imread('Panda.png')\n",
    "\n",
    "print(\"Dimensions of Panda:\",image.shape)\n",
    "print(\"Color Channels:\",image.shape[2])"
   ]
  },
  {
   "cell_type": "code",
   "execution_count": null,
   "id": "33262469",
   "metadata": {},
   "outputs": [],
   "source": [
    "# using open cv, read and diplayed the pandas.png image. demonstrated how \n",
    "# to acess and modify pixel files\n",
    "# Read the 'Pandas.png' image using OpenCV\n",
    "image_cv = cv2.imread('Panda.png')\n",
    "cv2.imshow('Panda.png',image_cv)"
   ]
  }
 ],
 "metadata": {
  "kernelspec": {
   "display_name": "Python 3 (ipykernel)",
   "language": "python",
   "name": "python3"
  },
  "language_info": {
   "codemirror_mode": {
    "name": "ipython",
    "version": 3
   },
   "file_extension": ".py",
   "mimetype": "text/x-python",
   "name": "python",
   "nbconvert_exporter": "python",
   "pygments_lexer": "ipython3",
   "version": "3.10.12"
  }
 },
 "nbformat": 4,
 "nbformat_minor": 5
}
