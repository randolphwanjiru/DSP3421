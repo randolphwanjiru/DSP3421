{
 "cells": [
  {
   "cell_type": "code",
   "execution_count": 100,
   "id": "3f2ce7b8",
   "metadata": {},
   "outputs": [],
   "source": [
    "import pandas as pd\n",
    "import numpy as np\n",
    "import seaborn as sns\n",
    "import matplotlib.pyplot as plt\n",
    "from sklearn.preprocessing import MinMaxScaler, StandardScaler"
   ]
  },
  {
   "cell_type": "code",
   "execution_count": 15,
   "id": "7e8dcabb",
   "metadata": {},
   "outputs": [],
   "source": [
    "df = pd.read_csv('ClimateData.csv')"
   ]
  },
  {
   "cell_type": "code",
   "execution_count": 20,
   "id": "115289d3",
   "metadata": {},
   "outputs": [
    {
     "data": {
      "text/html": [
       "<div>\n",
       "<style scoped>\n",
       "    .dataframe tbody tr th:only-of-type {\n",
       "        vertical-align: middle;\n",
       "    }\n",
       "\n",
       "    .dataframe tbody tr th {\n",
       "        vertical-align: top;\n",
       "    }\n",
       "\n",
       "    .dataframe thead th {\n",
       "        text-align: right;\n",
       "    }\n",
       "</style>\n",
       "<table border=\"1\" class=\"dataframe\">\n",
       "  <thead>\n",
       "    <tr style=\"text-align: right;\">\n",
       "      <th></th>\n",
       "      <th>id</th>\n",
       "      <th>building_class</th>\n",
       "      <th>floor_area</th>\n",
       "      <th>year_built</th>\n",
       "      <th>precipitation_inches</th>\n",
       "      <th>snowfall_inches</th>\n",
       "      <th>avg_temp</th>\n",
       "      <th>days_with_fog</th>\n",
       "      <th>site_eui</th>\n",
       "    </tr>\n",
       "  </thead>\n",
       "  <tbody>\n",
       "    <tr>\n",
       "      <th>0</th>\n",
       "      <td>0</td>\n",
       "      <td>Commercial</td>\n",
       "      <td>61242.0</td>\n",
       "      <td>1942.0</td>\n",
       "      <td>16.59</td>\n",
       "      <td>0.0</td>\n",
       "      <td>56.972603</td>\n",
       "      <td>NaN</td>\n",
       "      <td>248.68</td>\n",
       "    </tr>\n",
       "    <tr>\n",
       "      <th>1</th>\n",
       "      <td>1</td>\n",
       "      <td>Commercial</td>\n",
       "      <td>274000.0</td>\n",
       "      <td>1955.0</td>\n",
       "      <td>16.59</td>\n",
       "      <td>0.0</td>\n",
       "      <td>56.972603</td>\n",
       "      <td>12.0</td>\n",
       "      <td>26.50</td>\n",
       "    </tr>\n",
       "    <tr>\n",
       "      <th>2</th>\n",
       "      <td>2</td>\n",
       "      <td>Commercial</td>\n",
       "      <td>280025.0</td>\n",
       "      <td>1951.0</td>\n",
       "      <td>16.59</td>\n",
       "      <td>0.0</td>\n",
       "      <td>56.972603</td>\n",
       "      <td>12.0</td>\n",
       "      <td>24.69</td>\n",
       "    </tr>\n",
       "    <tr>\n",
       "      <th>3</th>\n",
       "      <td>3</td>\n",
       "      <td>Commercial</td>\n",
       "      <td>55325.0</td>\n",
       "      <td>1980.0</td>\n",
       "      <td>16.59</td>\n",
       "      <td>0.0</td>\n",
       "      <td>56.972603</td>\n",
       "      <td>12.0</td>\n",
       "      <td>48.41</td>\n",
       "    </tr>\n",
       "    <tr>\n",
       "      <th>4</th>\n",
       "      <td>4</td>\n",
       "      <td>Commercial</td>\n",
       "      <td>66000.0</td>\n",
       "      <td>1985.0</td>\n",
       "      <td>16.59</td>\n",
       "      <td>0.0</td>\n",
       "      <td>56.972603</td>\n",
       "      <td>NaN</td>\n",
       "      <td>3.90</td>\n",
       "    </tr>\n",
       "    <tr>\n",
       "      <th>...</th>\n",
       "      <td>...</td>\n",
       "      <td>...</td>\n",
       "      <td>...</td>\n",
       "      <td>...</td>\n",
       "      <td>...</td>\n",
       "      <td>...</td>\n",
       "      <td>...</td>\n",
       "      <td>...</td>\n",
       "      <td>...</td>\n",
       "    </tr>\n",
       "    <tr>\n",
       "      <th>75752</th>\n",
       "      <td>75752</td>\n",
       "      <td>Commercial</td>\n",
       "      <td>20410.0</td>\n",
       "      <td>1995.0</td>\n",
       "      <td>45.03</td>\n",
       "      <td>1.4</td>\n",
       "      <td>55.147541</td>\n",
       "      <td>NaN</td>\n",
       "      <td>132.92</td>\n",
       "    </tr>\n",
       "    <tr>\n",
       "      <th>75753</th>\n",
       "      <td>75753</td>\n",
       "      <td>Residential</td>\n",
       "      <td>40489.0</td>\n",
       "      <td>1910.0</td>\n",
       "      <td>45.03</td>\n",
       "      <td>1.4</td>\n",
       "      <td>55.147541</td>\n",
       "      <td>NaN</td>\n",
       "      <td>39.48</td>\n",
       "    </tr>\n",
       "    <tr>\n",
       "      <th>75754</th>\n",
       "      <td>75754</td>\n",
       "      <td>Commercial</td>\n",
       "      <td>28072.0</td>\n",
       "      <td>1917.0</td>\n",
       "      <td>106.32</td>\n",
       "      <td>36.6</td>\n",
       "      <td>47.911202</td>\n",
       "      <td>NaN</td>\n",
       "      <td>48.40</td>\n",
       "    </tr>\n",
       "    <tr>\n",
       "      <th>75755</th>\n",
       "      <td>75755</td>\n",
       "      <td>Commercial</td>\n",
       "      <td>53575.0</td>\n",
       "      <td>2012.0</td>\n",
       "      <td>106.32</td>\n",
       "      <td>36.6</td>\n",
       "      <td>47.911202</td>\n",
       "      <td>NaN</td>\n",
       "      <td>592.02</td>\n",
       "    </tr>\n",
       "    <tr>\n",
       "      <th>75756</th>\n",
       "      <td>75756</td>\n",
       "      <td>Residential</td>\n",
       "      <td>23888.0</td>\n",
       "      <td>1974.0</td>\n",
       "      <td>107.69</td>\n",
       "      <td>28.8</td>\n",
       "      <td>49.127397</td>\n",
       "      <td>NaN</td>\n",
       "      <td>29.15</td>\n",
       "    </tr>\n",
       "  </tbody>\n",
       "</table>\n",
       "<p>75757 rows × 9 columns</p>\n",
       "</div>"
      ],
      "text/plain": [
       "          id building_class  floor_area  year_built  precipitation_inches  \\\n",
       "0          0     Commercial     61242.0      1942.0                 16.59   \n",
       "1          1     Commercial    274000.0      1955.0                 16.59   \n",
       "2          2     Commercial    280025.0      1951.0                 16.59   \n",
       "3          3     Commercial     55325.0      1980.0                 16.59   \n",
       "4          4     Commercial     66000.0      1985.0                 16.59   \n",
       "...      ...            ...         ...         ...                   ...   \n",
       "75752  75752     Commercial     20410.0      1995.0                 45.03   \n",
       "75753  75753    Residential     40489.0      1910.0                 45.03   \n",
       "75754  75754     Commercial     28072.0      1917.0                106.32   \n",
       "75755  75755     Commercial     53575.0      2012.0                106.32   \n",
       "75756  75756    Residential     23888.0      1974.0                107.69   \n",
       "\n",
       "       snowfall_inches   avg_temp  days_with_fog  site_eui  \n",
       "0                  0.0  56.972603            NaN    248.68  \n",
       "1                  0.0  56.972603           12.0     26.50  \n",
       "2                  0.0  56.972603           12.0     24.69  \n",
       "3                  0.0  56.972603           12.0     48.41  \n",
       "4                  0.0  56.972603            NaN      3.90  \n",
       "...                ...        ...            ...       ...  \n",
       "75752              1.4  55.147541            NaN    132.92  \n",
       "75753              1.4  55.147541            NaN     39.48  \n",
       "75754             36.6  47.911202            NaN     48.40  \n",
       "75755             36.6  47.911202            NaN    592.02  \n",
       "75756             28.8  49.127397            NaN     29.15  \n",
       "\n",
       "[75757 rows x 9 columns]"
      ]
     },
     "metadata": {},
     "output_type": "display_data"
    }
   ],
   "source": [
    "display(df)"
   ]
  },
  {
   "cell_type": "code",
   "execution_count": 16,
   "id": "376a5522",
   "metadata": {},
   "outputs": [
    {
     "name": "stdout",
     "output_type": "stream",
     "text": [
      "id                        int64\n",
      "building_class           object\n",
      "floor_area              float64\n",
      "year_built              float64\n",
      "precipitation_inches    float64\n",
      "snowfall_inches         float64\n",
      "avg_temp                float64\n",
      "days_with_fog           float64\n",
      "site_eui                float64\n",
      "dtype: object\n"
     ]
    }
   ],
   "source": [
    "#Question 1 data types summary\n",
    "print(df.dtypes)"
   ]
  },
  {
   "cell_type": "code",
   "execution_count": 33,
   "id": "8f3dc011",
   "metadata": {},
   "outputs": [
    {
     "name": "stdout",
     "output_type": "stream",
     "text": [
      "Number of unique values in 'building_class' :2\n"
     ]
    }
   ],
   "source": [
    "#Question 2 Unique ID for categorical variable \n",
    "unique_values_count = df['building_class'].nunique()\n",
    "print(f\"Number of unique values in 'building_class' :{unique_values_count}\")"
   ]
  },
  {
   "cell_type": "code",
   "execution_count": 35,
   "id": "5289bad2",
   "metadata": {
    "scrolled": true
   },
   "outputs": [
    {
     "name": "stdout",
     "output_type": "stream",
     "text": [
      "                 id    floor_area    year_built  precipitation_inches  \\\n",
      "count  75757.000000  7.575700e+04  73920.000000          75757.000000   \n",
      "mean   37878.000000  1.659839e+05   1952.306764             42.430651   \n",
      "std    21869.306509  2.468758e+05     37.053619             10.592205   \n",
      "min        0.000000  9.430000e+02      0.000000              0.000000   \n",
      "25%    18939.000000  6.237900e+04   1927.000000             39.350000   \n",
      "50%    37878.000000  9.136700e+04   1951.000000             42.170000   \n",
      "75%    56817.000000  1.660000e+05   1977.000000             46.320000   \n",
      "max    75756.000000  6.385382e+06   2015.000000            107.690000   \n",
      "\n",
      "       snowfall_inches      avg_temp  days_with_fog      site_eui  \n",
      "count     75757.000000  75757.000000   29961.000000  75757.000000  \n",
      "mean         29.136379     56.176705     109.142051     82.584707  \n",
      "std          17.810894      2.241940      50.699751     58.255413  \n",
      "min           0.000000     44.512329      12.000000      1.000000  \n",
      "25%           9.600000     55.147541      88.000000     54.530000  \n",
      "50%          31.600000     56.835616     104.000000     75.290000  \n",
      "75%          49.100000     57.215847     131.000000     97.280000  \n",
      "max         127.300000     77.245205     311.000000    997.870000  \n"
     ]
    }
   ],
   "source": [
    "#Question 3 Descrpitve Statistics \n",
    "descriptive_statistics = df.describe()\n",
    "print(descriptive_statistics)\n",
    "#Understanding central tendency helps identify typical values,\n",
    "#while dispersion measures reveal the variability or spread of the data."
   ]
  },
  {
   "cell_type": "code",
   "execution_count": 37,
   "id": "31b319e2",
   "metadata": {},
   "outputs": [
    {
     "name": "stdout",
     "output_type": "stream",
     "text": [
      "Missing values in each column:\n",
      "id                          0\n",
      "building_class              0\n",
      "floor_area                  0\n",
      "year_built               1837\n",
      "precipitation_inches        0\n",
      "snowfall_inches             0\n",
      "avg_temp                    0\n",
      "days_with_fog           45796\n",
      "site_eui                    0\n",
      "dtype: int64\n"
     ]
    }
   ],
   "source": [
    "# Question 4 Missing Values \n",
    "missing_values_count = df.isnull().sum()\n",
    "print(f\"Missing values in each column:\\n{missing_values_count}\")\n",
    "\n",
    "#These missing values could possibly effect the relaibility and variability\n",
    "#of the spread of data"
   ]
  },
  {
   "cell_type": "code",
   "execution_count": 23,
   "id": "c8326188",
   "metadata": {},
   "outputs": [
    {
     "name": "stdout",
     "output_type": "stream",
     "text": [
      "   id building_class  floor_area  year_built  precipitation_inches  \\\n",
      "0   0     Commercial     61242.0      1942.0                 16.59   \n",
      "1   1     Commercial    274000.0      1955.0                 16.59   \n",
      "2   2     Commercial    280025.0      1951.0                 16.59   \n",
      "3   3     Commercial     55325.0      1980.0                 16.59   \n",
      "4   4     Commercial     66000.0      1985.0                 16.59   \n",
      "\n",
      "   snowfall_inches   avg_temp  days_with_fog  site_eui  \n",
      "0              0.0  56.972603     109.142051    248.68  \n",
      "1              0.0  56.972603      12.000000     26.50  \n",
      "2              0.0  56.972603      12.000000     24.69  \n",
      "3              0.0  56.972603      12.000000     48.41  \n",
      "4              0.0  56.972603     109.142051      3.90  \n"
     ]
    },
    {
     "name": "stderr",
     "output_type": "stream",
     "text": [
      "/tmp/ipykernel_766/1934065912.py:2: FutureWarning: Dropping of nuisance columns in DataFrame reductions (with 'numeric_only=None') is deprecated; in a future version this will raise TypeError.  Select only valid columns before calling the reduction.\n",
      "  impute_data = df.fillna(df.mean())\n"
     ]
    }
   ],
   "source": [
    "#Question 5 Missing data Handling // i decided to impute missing values \n",
    "#with the mean and remove rows with missing categorical data \n",
    "impute_data = df.fillna(df.mean())\n",
    "clean_data = impute_data.dropna()\n",
    "print(clean_data.head())\n",
    "\n",
    "#i did both imputation and removal to make the data more valid "
   ]
  },
  {
   "cell_type": "code",
   "execution_count": 24,
   "id": "c2961cf9",
   "metadata": {},
   "outputs": [
    {
     "name": "stdout",
     "output_type": "stream",
     "text": [
      "\n",
      "Number of Duplicate records:\n",
      "0\n"
     ]
    }
   ],
   "source": [
    "#6 duplicate records\n",
    "duplicate_count = clean_data.duplicated().sum()\n",
    "print(\"\\nNumber of Duplicate records:\")\n",
    "print(duplicate_count)\n",
    "\n",
    "#no duplicate records no methods are needed"
   ]
  },
  {
   "cell_type": "code",
   "execution_count": 104,
   "id": "557ce84d",
   "metadata": {},
   "outputs": [
    {
     "data": {
      "image/png": "[encoded data removed]",
      "text/plain": [
       "<Figure size 720x432 with 1 Axes>"
      ]
     },
     "metadata": {
      "needs_background": "light"
     },
     "output_type": "display_data"
    }
   ],
   "source": [
    "#7 outlier detection with box plots\n",
    "plt.figure(figsize=(10,6))\n",
    "sns.boxplot(data=clean_data)\n",
    "plt.title(\"Boxplot of the Variables\")\n",
    "plt.xticks(rotation=45)\n",
    "plt.show()\n",
    "\n",
    "#outiers can impact data analysis and since there is a great number\n",
    "#of outliers instead of removing them we can fix it with scaling "
   ]
  },
  {
   "cell_type": "code",
   "execution_count": 35,
   "id": "0f38ff11",
   "metadata": {},
   "outputs": [
    {
     "name": "stdout",
     "output_type": "stream",
     "text": [
      "\n",
      "Number of Outliers Detected with Z-score:\n",
      "id                      75750\n",
      "floor_area              75757\n",
      "year_built              69836\n",
      "precipitation_inches    43082\n",
      "snowfall_inches         62192\n",
      "avg_temp                 8554\n",
      "days_with_fog           27740\n",
      "site_eui                70048\n",
      "dtype: int64\n"
     ]
    }
   ],
   "source": [
    "#8 outlier detection with z score\n",
    "z_scores = np.abs((clean_data[numeric_cols] - clean_data[numeric_cols].mean()))\n",
    "outliers = z_scores > 3\n",
    "outlier_count = outliers.sum()\n",
    "print(\"\\nNumber of Outliers Detected with Z-score:\")\n",
    "print(outlier_count)"
   ]
  },
  {
   "cell_type": "code",
   "execution_count": 63,
   "id": "f3c0d389",
   "metadata": {},
   "outputs": [
    {
     "data": {
      "text/plain": [
       "<Figure size 864x576 with 0 Axes>"
      ]
     },
     "metadata": {},
     "output_type": "display_data"
    },
    {
     "data": {
      "image/png": "[encoded data removed]",
      "text/plain": [
       "<Figure size 864x576 with 8 Axes>"
      ]
     },
     "metadata": {
      "needs_background": "light"
     },
     "output_type": "display_data"
    }
   ],
   "source": [
    "#9 Histogram analysis distribution\n",
    "plt.figure(figsize=(12, 8))\n",
    "clean_data[numeric_cols].hist(bins=20, layout=(2, 4), figsize=(12, 8))  # Adjust the layout as needed\n",
    "plt.suptitle(\"Histograms of Variables\", y=0.95)\n",
    "plt.tight_layout()  \n",
    "plt.show()\n",
    "\n",
    "#i dont really see any noticeble patterns in the histograms but the shapes \n",
    "#can help decide what statistical methods to use for analysis \n"
   ]
  },
  {
   "cell_type": "code",
   "execution_count": 99,
   "id": "59cb27bd",
   "metadata": {},
   "outputs": [
    {
     "data": {
      "text/html": [
       "<div>\n",
       "<style scoped>\n",
       "    .dataframe tbody tr th:only-of-type {\n",
       "        vertical-align: middle;\n",
       "    }\n",
       "\n",
       "    .dataframe tbody tr th {\n",
       "        vertical-align: top;\n",
       "    }\n",
       "\n",
       "    .dataframe thead th {\n",
       "        text-align: right;\n",
       "    }\n",
       "</style>\n",
       "<table border=\"1\" class=\"dataframe\">\n",
       "  <thead>\n",
       "    <tr style=\"text-align: right;\">\n",
       "      <th></th>\n",
       "      <th>id</th>\n",
       "      <th>floor_area</th>\n",
       "      <th>year_built</th>\n",
       "      <th>precipitation_inches</th>\n",
       "      <th>snowfall_inches</th>\n",
       "      <th>avg_temp</th>\n",
       "      <th>days_with_fog</th>\n",
       "      <th>site_eui</th>\n",
       "    </tr>\n",
       "  </thead>\n",
       "  <tbody>\n",
       "    <tr>\n",
       "      <th>0</th>\n",
       "      <td>0.000000</td>\n",
       "      <td>0.009445</td>\n",
       "      <td>0.963772</td>\n",
       "      <td>0.154053</td>\n",
       "      <td>0.000000</td>\n",
       "      <td>0.380665</td>\n",
       "      <td>0.32489</td>\n",
       "      <td>0.248458</td>\n",
       "    </tr>\n",
       "    <tr>\n",
       "      <th>1</th>\n",
       "      <td>0.000013</td>\n",
       "      <td>0.042769</td>\n",
       "      <td>0.970223</td>\n",
       "      <td>0.154053</td>\n",
       "      <td>0.000000</td>\n",
       "      <td>0.380665</td>\n",
       "      <td>0.00000</td>\n",
       "      <td>0.025580</td>\n",
       "    </tr>\n",
       "    <tr>\n",
       "      <th>2</th>\n",
       "      <td>0.000026</td>\n",
       "      <td>0.043713</td>\n",
       "      <td>0.968238</td>\n",
       "      <td>0.154053</td>\n",
       "      <td>0.000000</td>\n",
       "      <td>0.380665</td>\n",
       "      <td>0.00000</td>\n",
       "      <td>0.023764</td>\n",
       "    </tr>\n",
       "    <tr>\n",
       "      <th>3</th>\n",
       "      <td>0.000040</td>\n",
       "      <td>0.008518</td>\n",
       "      <td>0.982630</td>\n",
       "      <td>0.154053</td>\n",
       "      <td>0.000000</td>\n",
       "      <td>0.380665</td>\n",
       "      <td>0.00000</td>\n",
       "      <td>0.047559</td>\n",
       "    </tr>\n",
       "    <tr>\n",
       "      <th>4</th>\n",
       "      <td>0.000053</td>\n",
       "      <td>0.010190</td>\n",
       "      <td>0.985112</td>\n",
       "      <td>0.154053</td>\n",
       "      <td>0.000000</td>\n",
       "      <td>0.380665</td>\n",
       "      <td>0.32489</td>\n",
       "      <td>0.002909</td>\n",
       "    </tr>\n",
       "    <tr>\n",
       "      <th>...</th>\n",
       "      <td>...</td>\n",
       "      <td>...</td>\n",
       "      <td>...</td>\n",
       "      <td>...</td>\n",
       "      <td>...</td>\n",
       "      <td>...</td>\n",
       "      <td>...</td>\n",
       "      <td>...</td>\n",
       "    </tr>\n",
       "    <tr>\n",
       "      <th>75752</th>\n",
       "      <td>0.999947</td>\n",
       "      <td>0.003049</td>\n",
       "      <td>0.990074</td>\n",
       "      <td>0.418145</td>\n",
       "      <td>0.010998</td>\n",
       "      <td>0.324909</td>\n",
       "      <td>0.32489</td>\n",
       "      <td>0.132334</td>\n",
       "    </tr>\n",
       "    <tr>\n",
       "      <th>75753</th>\n",
       "      <td>0.999960</td>\n",
       "      <td>0.006194</td>\n",
       "      <td>0.947891</td>\n",
       "      <td>0.418145</td>\n",
       "      <td>0.010998</td>\n",
       "      <td>0.324909</td>\n",
       "      <td>0.32489</td>\n",
       "      <td>0.038601</td>\n",
       "    </tr>\n",
       "    <tr>\n",
       "      <th>75754</th>\n",
       "      <td>0.999974</td>\n",
       "      <td>0.004249</td>\n",
       "      <td>0.951365</td>\n",
       "      <td>0.987278</td>\n",
       "      <td>0.287510</td>\n",
       "      <td>0.103837</td>\n",
       "      <td>0.32489</td>\n",
       "      <td>0.047549</td>\n",
       "    </tr>\n",
       "    <tr>\n",
       "      <th>75755</th>\n",
       "      <td>0.999987</td>\n",
       "      <td>0.008244</td>\n",
       "      <td>0.998511</td>\n",
       "      <td>0.987278</td>\n",
       "      <td>0.287510</td>\n",
       "      <td>0.103837</td>\n",
       "      <td>0.32489</td>\n",
       "      <td>0.592876</td>\n",
       "    </tr>\n",
       "    <tr>\n",
       "      <th>75756</th>\n",
       "      <td>1.000000</td>\n",
       "      <td>0.003594</td>\n",
       "      <td>0.979653</td>\n",
       "      <td>1.000000</td>\n",
       "      <td>0.226237</td>\n",
       "      <td>0.140992</td>\n",
       "      <td>0.32489</td>\n",
       "      <td>0.028238</td>\n",
       "    </tr>\n",
       "  </tbody>\n",
       "</table>\n",
       "<p>75757 rows × 8 columns</p>\n",
       "</div>"
      ],
      "text/plain": [
       "             id  floor_area  year_built  precipitation_inches  \\\n",
       "0      0.000000    0.009445    0.963772              0.154053   \n",
       "1      0.000013    0.042769    0.970223              0.154053   \n",
       "2      0.000026    0.043713    0.968238              0.154053   \n",
       "3      0.000040    0.008518    0.982630              0.154053   \n",
       "4      0.000053    0.010190    0.985112              0.154053   \n",
       "...         ...         ...         ...                   ...   \n",
       "75752  0.999947    0.003049    0.990074              0.418145   \n",
       "75753  0.999960    0.006194    0.947891              0.418145   \n",
       "75754  0.999974    0.004249    0.951365              0.987278   \n",
       "75755  0.999987    0.008244    0.998511              0.987278   \n",
       "75756  1.000000    0.003594    0.979653              1.000000   \n",
       "\n",
       "       snowfall_inches  avg_temp  days_with_fog  site_eui  \n",
       "0             0.000000  0.380665        0.32489  0.248458  \n",
       "1             0.000000  0.380665        0.00000  0.025580  \n",
       "2             0.000000  0.380665        0.00000  0.023764  \n",
       "3             0.000000  0.380665        0.00000  0.047559  \n",
       "4             0.000000  0.380665        0.32489  0.002909  \n",
       "...                ...       ...            ...       ...  \n",
       "75752         0.010998  0.324909        0.32489  0.132334  \n",
       "75753         0.010998  0.324909        0.32489  0.038601  \n",
       "75754         0.287510  0.103837        0.32489  0.047549  \n",
       "75755         0.287510  0.103837        0.32489  0.592876  \n",
       "75756         0.226237  0.140992        0.32489  0.028238  \n",
       "\n",
       "[75757 rows x 8 columns]"
      ]
     },
     "metadata": {},
     "output_type": "display_data"
    }
   ],
   "source": [
    "#10 feauture scaling // i decided to normalizde the data min-max scaling\n",
    "scaler_minmax = MinMaxScaler()\n",
    "normalized_df = pd.DataFrame(normalized_data, columns=clean_data[numeric_cols].columns)\n",
    "display(normalized_df)\n",
    "# i do think scaling is nescessary to normalize the datatset\n",
    "# to improve the performance \n",
    "# of certain algorithms "
   ]
  },
  {
   "cell_type": "code",
   "execution_count": 72,
   "id": "e2a213e0",
   "metadata": {},
   "outputs": [
    {
     "name": "stdout",
     "output_type": "stream",
     "text": [
      "\n",
      "Range Analysis:\n",
      "          id  floor_area  year_built  precipitation_inches  snowfall_inches  \\\n",
      "min      0.0       943.0         0.0                  0.00              0.0   \n",
      "max  75756.0   6385382.0      2015.0                107.69            127.3   \n",
      "\n",
      "      avg_temp  days_with_fog  site_eui  \n",
      "min  44.512329           12.0      1.00  \n",
      "max  77.245205          311.0    997.87  \n"
     ]
    }
   ],
   "source": [
    "#11 Range Analysis: Min and Max\n",
    "variable_ranges = clean_data.describe().loc[['min','max']]\n",
    "print(\"\\nRange Analysis:\")\n",
    "print(variable_ranges)\n",
    "#Understanding the range of values in our data helps us identify what's\n",
    "#typical and what's unusual, guiding us in detecting anomalies or errors.\n",
    "#Additionally, it informs preprocessing decisions such as data normalization"
   ]
  },
  {
   "cell_type": "code",
   "execution_count": 71,
   "id": "a64189f1",
   "metadata": {},
   "outputs": [
    {
     "name": "stdout",
     "output_type": "stream",
     "text": [
      "\n",
      "Encoded Data:\n",
      "   id  floor_area  year_built  precipitation_inches  snowfall_inches  \\\n",
      "0   0     61242.0      1942.0                 16.59              0.0   \n",
      "1   1    274000.0      1955.0                 16.59              0.0   \n",
      "2   2    280025.0      1951.0                 16.59              0.0   \n",
      "3   3     55325.0      1980.0                 16.59              0.0   \n",
      "4   4     66000.0      1985.0                 16.59              0.0   \n",
      "\n",
      "    avg_temp  days_with_fog  site_eui  building_class_Residential  \n",
      "0  56.972603     109.142051    248.68                           0  \n",
      "1  56.972603      12.000000     26.50                           0  \n",
      "2  56.972603      12.000000     24.69                           0  \n",
      "3  56.972603      12.000000     48.41                           0  \n",
      "4  56.972603     109.142051      3.90                           0  \n"
     ]
    }
   ],
   "source": [
    "#12 encoding categorical variables (one hot encoding)\n",
    "encoded_data = pd.get_dummies(clean_data, drop_first=True)\n",
    "print(\"\\nEncoded Data:\")\n",
    "print(encoded_data.head())\n",
    "\n",
    "#i chose one hot encoding for my method. its most suitable for nominal \n",
    "#categorical variabes "
   ]
  }
 ],
 "metadata": {
  "kernelspec": {
   "display_name": "Python 3 (ipykernel)",
   "language": "python",
   "name": "python3"
  },
  "language_info": {
   "codemirror_mode": {
    "name": "ipython",
    "version": 3
   },
   "file_extension": ".py",
   "mimetype": "text/x-python",
   "name": "python",
   "nbconvert_exporter": "python",
   "pygments_lexer": "ipython3",
   "version": "3.10.12"
  }
 },
 "nbformat": 4,
 "nbformat_minor": 5
}
